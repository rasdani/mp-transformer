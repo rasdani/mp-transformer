{
 "cells": [
  {
   "cell_type": "code",
   "execution_count": 1,
   "metadata": {},
   "outputs": [],
   "source": [
    "import os\n",
    "from pathlib import Path\n",
    "import json\n",
    "import matplotlib.pyplot as plt\n",
    "import numpy as np\n",
    "from torch.utils.data import DataLoader\n",
    "from pytorch_lightning import Trainer\n",
    "from mp_transformer.config import CONFIG\n",
    "from mp_transformer.train import setup\n",
    "from mp_transformer.datasets import ToyDataset\n",
    "from mp_transformer.utils import save_side_by_side_strip, unroll_from_video, save_generation_video, save_side_by_side_video"
   ]
  },
  {
   "cell_type": "code",
   "execution_count": 2,
   "metadata": {},
   "outputs": [
    {
     "name": "stdout",
     "output_type": "stream",
     "text": [
      "/data/daniel/git/mp-transformer\n"
     ]
    }
   ],
   "source": [
    "current_dir = Path.cwd().parts[-1]\n",
    "if current_dir == \"demo\":\n",
    "    os.chdir(\"..\")\n",
    "current_dir = Path.cwd().parts[-1]\n",
    "!pwd\n",
    "if current_dir != \"mp-transformer\":\n",
    "    raise ValueError(\"Please run this notebook in the project root.\")"
   ]
  },
  {
   "cell_type": "code",
   "execution_count": 3,
   "metadata": {},
   "outputs": [],
   "source": [
    "CONFIG[\"hidden_dim\"] = 40\n",
    "CONFIG[\"latent_dim\"] = 48\n",
    "CONFIG[\"num_primitives\"] = 1\n",
    "CONFIG[\"num_attention_heads\"] = 1\n",
    "CONFIG[\"num_transformer_layers\"] = 1\n",
    "model_vae_single_layer_transformer, _, _ = setup(CONFIG)\n",
    "model_vae_single_layer_transformer = model_vae_single_layer_transformer.load_from_checkpoint(\"demo/models/BEST-VAE-single-layer-transformer.ckpt\", config=CONFIG)"
   ]
  },
  {
   "cell_type": "code",
   "execution_count": 4,
   "metadata": {},
   "outputs": [],
   "source": [
    "CONFIG[\"hidden_dim\"] = 40\n",
    "CONFIG[\"latent_dim\"] = 48\n",
    "CONFIG[\"num_primitives\"] = 1\n",
    "CONFIG[\"num_attention_heads\"] = 4\n",
    "CONFIG[\"num_transformer_layers\"] = 4\n",
    "model_vae, _, _ = setup(CONFIG)\n",
    "model_vae = model_vae.load_from_checkpoint(\"demo/models/BEST-VAE.ckpt\", config=CONFIG)"
   ]
  },
  {
   "cell_type": "code",
   "execution_count": 5,
   "metadata": {},
   "outputs": [],
   "source": [
    "CONFIG[\"hidden_dim\"] = 40\n",
    "CONFIG[\"latent_dim\"] = 8\n",
    "CONFIG[\"num_primitives\"] = 6\n",
    "CONFIG[\"num_attention_heads\"] = 1\n",
    "CONFIG[\"num_transformer_layers\"] = 1\n",
    "model_single_layer_transformer, _, _ = setup(CONFIG)\n",
    "model_single_layer_transformer = model_single_layer_transformer.load_from_checkpoint(\"demo/models/BEST-single-layer-transformer.ckpt\", config=CONFIG)"
   ]
  },
  {
   "cell_type": "code",
   "execution_count": 6,
   "metadata": {},
   "outputs": [],
   "source": [
    "CONFIG[\"hidden_dim\"] = 40\n",
    "CONFIG[\"latent_dim\"] = 8\n",
    "CONFIG[\"num_primitives\"] = 6\n",
    "CONFIG[\"num_attention_heads\"] = 4\n",
    "CONFIG[\"num_transformer_layers\"] = 4\n",
    "model, _, _ = setup(CONFIG)\n",
    "model = model.load_from_checkpoint(\"demo/models/BEST-bottleneck.ckpt\", config=CONFIG)"
   ]
  },
  {
   "cell_type": "code",
   "execution_count": 7,
   "metadata": {},
   "outputs": [],
   "source": [
    "models = [model, model_single_layer_transformer, model_vae, model_vae_single_layer_transformer]\n",
    "model_names = [\"model\", \"model_single_layer_transformer\", \"model_vae\", \"model_vae_single_layer_transformer\"]"
   ]
  },
  {
   "cell_type": "code",
   "execution_count": 8,
   "metadata": {},
   "outputs": [],
   "source": [
    "_, _, test_set = setup(CONFIG, test_set=True)\n",
    "test_dataloader = DataLoader(\n",
    "    test_set,\n",
    "    batch_size=CONFIG[\"batch_size\"],\n",
    "    drop_last=True,\n",
    "    num_workers=4,\n",
    ")"
   ]
  },
  {
   "cell_type": "code",
   "execution_count": null,
   "metadata": {},
   "outputs": [
    {
     "name": "stderr",
     "output_type": "stream",
     "text": [
      "UsageError: unrecognized arguments: less output\n"
     ]
    }
   ],
   "source": [
    "%%capture   # less output\n",
    "\n",
    "if not os.path.exists(\"demo/model_comparison.json\"):\n",
    "    trainer = Trainer(gpus=1, logger=False)\n",
    "\n",
    "    models = [model, model_single_layer_transformer, model_vae, model_vae_single_layer_transformer]\n",
    "    model_names = [\"model\", \"model_single_layer_transformer\", \"model_vae\", \"model_vae_single_layer_transformer\"]\n",
    "\n",
    "\n",
    "    losses = {}\n",
    "    for m, name in zip(models, model_names):\n",
    "        res = trainer.test(m, dataloaders=test_dataloader)\n",
    "        losses[name] = res[0][\"avg_test_loss\"]\n",
    "    print(losses)\n",
    "    with open(\"demo/model_comparison.json\", \"w\") as f:\n",
    "        json.dump(losses, f)"
   ]
  },
  {
   "cell_type": "code",
   "execution_count": null,
   "metadata": {},
   "outputs": [],
   "source": [
    "%%capture\n",
    "\n",
    "if not os.path.exists(\"demo/model_generalization.json\"):\n",
    "\n",
    "    scaling_factors = np.linspace(0.01, 2, 20)\n",
    "\n",
    "    all_losses = {}\n",
    "\n",
    "    for m, model_name in zip(models, model_names):\n",
    "        losses = []\n",
    "        for scale in scaling_factors:\n",
    "            # Modify the dataset size based on the current scaling factor\n",
    "            current_sequence_length = int(CONFIG[\"sequence_length\"] * scale)\n",
    "\n",
    "            test_dataset = ToyDataset(\n",
    "                path=\"data/toy/test-set/\",\n",
    "                return_segments=True,\n",
    "                sequence_length=current_sequence_length,\n",
    "                N=CONFIG[\"N_val\"],\n",
    "            )\n",
    "\n",
    "            test_dataloader = DataLoader(\n",
    "                test_dataset,\n",
    "                batch_size=CONFIG[\"batch_size\"],\n",
    "                drop_last=True,\n",
    "                num_workers=4,\n",
    "            )\n",
    "\n",
    "            trainer = Trainer(gpus=1, logger=False)\n",
    "            res = trainer.test(m, dataloaders=test_dataloader)\n",
    "            losses.append(res[0][\"avg_test_loss\"])\n",
    "\n",
    "        all_losses[model_name] = losses\n",
    "\n",
    "    with open(\"demo/model_generalization.json\", \"r\") as f:\n",
    "        all_losses = json.load(f)"
   ]
  },
  {
   "cell_type": "code",
   "execution_count": null,
   "metadata": {},
   "outputs": [
    {
     "data": {
      "image/png": "[encoded data removed]",
      "text/plain": [
       "<Figure size 1000x600 with 1 Axes>"
      ]
     },
     "metadata": {},
     "output_type": "display_data"
    }
   ],
   "source": [
    "with open(\"demo/model_generalization.json\", \"r\") as f:\n",
    "    all_losses = json.load(f)\n",
    "\n",
    "# Conversion factor\n",
    "conversion_factor = 6.4  # 1 scaling factor equals 6.4 seconds\n",
    "\n",
    "scaling_factors = np.linspace(0.01, 2, 20)\n",
    "# Calculate durations in seconds\n",
    "durations = scaling_factors * conversion_factor\n",
    "\n",
    "model_name_to_label = {\n",
    "    \"model\": \"m = 6, D = 8\",\n",
    "    \"model_single_layer_transformer\": \"m = 6, D = 8, ST\",\n",
    "    \"model_vae\": \"m = 1, D = 48\",\n",
    "    \"model_vae_single_layer_transformer\": \"m = 1, D = 48, ST\"\n",
    "}\n",
    "\n",
    "plt.figure(figsize=(10, 6))\n",
    "\n",
    "for model_name, losses in all_losses.items():\n",
    "    label = model_name_to_label[model_name]\n",
    "    plt.plot(durations, losses, label=label)\n",
    "\n",
    "plt.xlabel(\"Duration (s)\")\n",
    "plt.ylabel(\"MPJPE (mm)\")\n",
    "plt.yticks(np.arange(0, 150, 25))\n",
    "plt.axvline(x=6.4, color='black', linestyle='--')\n",
    "plt.legend()\n",
    "plt.grid(True)\n",
    "plt.show()"
   ]
  },
  {
   "cell_type": "code",
   "execution_count": null,
   "metadata": {},
   "outputs": [
    {
     "name": "stdout",
     "output_type": "stream",
     "text": [
      "model: 1,552,364 trainable parameters\n",
      "model_single_layer_transformer: 391,124 trainable parameters\n",
      "model_vae: 2,251,924 trainable parameters\n",
      "model_vae_single_layer_transformer: 571,204 trainable parameters\n"
     ]
    }
   ],
   "source": [
    "def count_parameters(model):\n",
    "    return sum(p.numel() for p in model.parameters())\n",
    "\n",
    "# Iterate over the models and print their total number of parameters\n",
    "for m, model_name in zip(models, model_names):\n",
    "    num_params = count_parameters(m)\n",
    "    print(f\"{model_name}: {num_params:,} trainable parameters\")\n"
   ]
  },
  {
   "cell_type": "code",
   "execution_count": 9,
   "metadata": {},
   "outputs": [],
   "source": [
    "item = test_set[4]"
   ]
  },
  {
   "cell_type": "code",
   "execution_count": 31,
   "metadata": {},
   "outputs": [
    {
     "name": "stdout",
     "output_type": "stream",
     "text": [
      "Video saved to tmp/comp_vid.mp4\n",
      "Video saved to tmp/comp_vid0.mp4\n",
      "Video saved to tmp/comp_vid1.mp4\n",
      "Video saved to tmp/comp_vid2.mp4\n",
      "Video saved to tmp/comp_vid3.mp4\n",
      "Video saved to tmp/comp_vid4.mp4\n",
      "Video saved to tmp/comp_vid5.mp4\n",
      "Moviepy - Building video tmp/comp_strip.mp4.\n",
      "Moviepy - Writing video tmp/comp_strip.mp4\n",
      "\n"
     ]
    },
    {
     "name": "stderr",
     "output_type": "stream",
     "text": [
      "                                                              "
     ]
    },
    {
     "name": "stdout",
     "output_type": "stream",
     "text": [
      "Moviepy - Done !\n",
      "Moviepy - video ready tmp/comp_strip.mp4\n"
     ]
    },
    {
     "name": "stderr",
     "output_type": "stream",
     "text": [
      "\r"
     ]
    }
   ],
   "source": [
    "save_side_by_side_strip(item, model)"
   ]
  },
  {
   "cell_type": "code",
   "execution_count": 32,
   "metadata": {},
   "outputs": [
    {
     "name": "stdout",
     "output_type": "stream",
     "text": [
      "Image saved as unrolled_vertical_from_video.png\n"
     ]
    }
   ],
   "source": [
    "\n",
    "unroll_from_video(image_path=\"demo/unrolled_reconstruction_video.png\", video_path=\"tmp/comp_vid.mp4\", step=8)"
   ]
  },
  {
   "cell_type": "code",
   "execution_count": 29,
   "metadata": {},
   "outputs": [
    {
     "name": "stdout",
     "output_type": "stream",
     "text": [
      "Video saved to tmp/comp_vid.mp4\n",
      "Video saved to tmp/comp_vid0.mp4\n",
      "Video saved to tmp/comp_vid1.mp4\n",
      "Video saved to tmp/comp_vid2.mp4\n",
      "Video saved to tmp/comp_vid3.mp4\n",
      "Video saved to tmp/comp_vid4.mp4\n",
      "Video saved to tmp/comp_vid5.mp4\n",
      "Moviepy - Building video tmp/comp_strip.mp4.\n",
      "Moviepy - Writing video tmp/comp_strip.mp4\n",
      "\n"
     ]
    },
    {
     "name": "stderr",
     "output_type": "stream",
     "text": [
      "                                                              \r"
     ]
    },
    {
     "name": "stdout",
     "output_type": "stream",
     "text": [
      "Moviepy - Done !\n",
      "Moviepy - video ready tmp/comp_strip.mp4\n"
     ]
    }
   ],
   "source": [
    "\n",
    "item = test_set[9]\n",
    "# item = test_set[16]\n",
    "save_side_by_side_strip(item, model)"
   ]
  },
  {
   "cell_type": "code",
   "execution_count": 30,
   "metadata": {},
   "outputs": [
    {
     "name": "stdout",
     "output_type": "stream",
     "text": [
      "Image saved as unrolled_vertical_from_video.png\n"
     ]
    }
   ],
   "source": [
    "unroll_from_video(image_path=\"demo/unrolled_primitive_video.png\", video_path=\"tmp/comp_strip.mp4\")"
   ]
  },
  {
   "cell_type": "code",
   "execution_count": 10,
   "metadata": {},
   "outputs": [
    {
     "name": "stdout",
     "output_type": "stream",
     "text": [
      "Video saved to demo/generation_video.mp4\n"
     ]
    }
   ],
   "source": [
    "save_generation_video(model, path=\"demo/generation_video.mp4\")"
   ]
  },
  {
   "cell_type": "code",
   "execution_count": 11,
   "metadata": {},
   "outputs": [
    {
     "name": "stdout",
     "output_type": "stream",
     "text": [
      "Image saved as unrolled_vertical_from_video.png\n"
     ]
    }
   ],
   "source": [
    "unroll_from_video(image_path=\"demo/unrolled_generation_video.png\", video_path=\"demo/generation.mp4\", step=8)"
   ]
  },
  {
   "cell_type": "code",
   "execution_count": 13,
   "metadata": {},
   "outputs": [
    {
     "name": "stdout",
     "output_type": "stream",
     "text": [
      "poses range: [2.3245827378559625e-06, 0.9999611377716064]\n",
      "mus range: [-1.2102930545806885, 1.0922013521194458]\n",
      "average mu: 0.006520887371152639\n",
      "logvars range: [-8.466848373413086, -5.703087329864502]\n",
      "median logvar: -7.527785301208496\n",
      "gt_latents range: [-2.5240426063537598, 2.284752368927002]\n",
      "average gt_latents: 0.11141959577798843\n",
      "random_latents range: [-1.1738234758377075, 1.0749876499176025]\n",
      "average random_latents: 0.0015033433446660638\n",
      "Video saved to tmp/comp_vid.mp4\n"
     ]
    }
   ],
   "source": [
    "# fill in video\n",
    "save_side_by_side_video(item, model, from_idx=1, to_idx=4)"
   ]
  },
  {
   "cell_type": "code",
   "execution_count": 15,
   "metadata": {},
   "outputs": [
    {
     "name": "stdout",
     "output_type": "stream",
     "text": [
      "poses range: [2.3245827378559625e-06, 0.9999611377716064]\n",
      "mus range: [-0.998945951461792, 1.1654844284057617]\n",
      "average mu: 0.059327974915504456\n",
      "logvars range: [-8.52099895477295, -5.509519577026367]\n",
      "median logvar: -7.215140342712402\n",
      "gt_latents range: [-2.3949685096740723, 2.098458766937256]\n",
      "average gt_latents: 0.11100565642118454\n",
      "random_latents range: [-1.0680592060089111, 1.1592532396316528]\n",
      "average random_latents: 0.05421747639775276\n",
      "Video saved to tmp/comp_vid.mp4\n"
     ]
    }
   ],
   "source": [
    "# Completion 1\n",
    "save_side_by_side_video(item, model, from_idx=3)"
   ]
  },
  {
   "cell_type": "code",
   "execution_count": 16,
   "metadata": {},
   "outputs": [
    {
     "name": "stdout",
     "output_type": "stream",
     "text": [
      "poses range: [2.3245827378559625e-06, 0.9999611377716064]\n",
      "mus range: [-1.2953771352767944, 1.4403305053710938]\n",
      "average mu: -0.10350888967514038\n",
      "logvars range: [-8.498364448547363, -5.490082263946533]\n",
      "median logvar: -7.446098327636719\n",
      "gt_latents range: [-2.550565719604492, 2.2558751106262207]\n",
      "average gt_latents: 0.1182718500494957\n",
      "random_latents range: [-1.251528024673462, 1.4447168111801147]\n",
      "average random_latents: -0.09419620782136917\n",
      "Video saved to tmp/comp_vid.mp4\n"
     ]
    }
   ],
   "source": [
    "# Completion 2\n",
    "save_side_by_side_video(item, model, from_idx=2)"
   ]
  }
 ],
 "metadata": {
  "kernelspec": {
   "display_name": "mp-transformer",
   "language": "python",
   "name": "python3"
  },
  "language_info": {
   "codemirror_mode": {
    "name": "ipython",
    "version": 3
   },
   "file_extension": ".py",
   "mimetype": "text/x-python",
   "name": "python",
   "nbconvert_exporter": "python",
   "pygments_lexer": "ipython3",
   "version": "3.10.10"
  },
  "orig_nbformat": 4
 },
 "nbformat": 4,
 "nbformat_minor": 2
}
