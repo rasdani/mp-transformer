{
 "cells": [
  {
   "cell_type": "code",
   "execution_count": 1,
   "metadata": {},
   "outputs": [],
   "source": [
    "from pathlib import Path\n",
    "import os\n",
    "from IPython.display import HTML\n",
    "import wandb\n",
    "from mp_transformer.config import CONFIG\n",
    "from mp_transformer.train import setup\n",
    "from mp_transformer.utils import save_side_by_side_video"
   ]
  },
  {
   "cell_type": "code",
   "execution_count": 2,
   "metadata": {},
   "outputs": [
    {
     "name": "stdout",
     "output_type": "stream",
     "text": [
      "/data/daniel/git/mp-transformer\n"
     ]
    }
   ],
   "source": [
    "current_dir = Path.cwd().parts[-1]\n",
    "if current_dir == \"demo\":\n",
    "    os.chdir(\"..\")\n",
    "!pwd"
   ]
  },
  {
   "cell_type": "code",
   "execution_count": 3,
   "metadata": {},
   "outputs": [
    {
     "name": "stderr",
     "output_type": "stream",
     "text": [
      "Failed to detect the name of this notebook, you can set it manually with the WANDB_NOTEBOOK_NAME environment variable to enable code saving.\n",
      "\u001b[34m\u001b[1mwandb\u001b[0m: Currently logged in as: \u001b[33mdaniel-a\u001b[0m (\u001b[33mtcs-mr\u001b[0m). Use \u001b[1m`wandb login --relogin`\u001b[0m to force relogin\n"
     ]
    },
    {
     "data": {
      "text/html": [
       "wandb version 0.15.10 is available!  To upgrade, please run:\n",
       " $ pip install wandb --upgrade"
      ],
      "text/plain": [
       "<IPython.core.display.HTML object>"
      ]
     },
     "metadata": {},
     "output_type": "display_data"
    },
    {
     "data": {
      "text/html": [
       "Tracking run with wandb version 0.15.4"
      ],
      "text/plain": [
       "<IPython.core.display.HTML object>"
      ]
     },
     "metadata": {},
     "output_type": "display_data"
    },
    {
     "data": {
      "text/html": [
       "Run data is saved locally in <code>/data/daniel/git/mp-transformer/wandb/run-20230914_181329-xlh6vk92</code>"
      ],
      "text/plain": [
       "<IPython.core.display.HTML object>"
      ]
     },
     "metadata": {},
     "output_type": "display_data"
    },
    {
     "data": {
      "text/html": [
       "Syncing run <strong><a href='https://wandb.ai/tcs-mr/mp-transformer/runs/xlh6vk92' target=\"_blank\">peach-cloud-545</a></strong> to <a href='https://wandb.ai/tcs-mr/mp-transformer' target=\"_blank\">Weights & Biases</a> (<a href='https://wandb.me/run' target=\"_blank\">docs</a>)<br/>"
      ],
      "text/plain": [
       "<IPython.core.display.HTML object>"
      ]
     },
     "metadata": {},
     "output_type": "display_data"
    },
    {
     "data": {
      "text/html": [
       " View project at <a href='https://wandb.ai/tcs-mr/mp-transformer' target=\"_blank\">https://wandb.ai/tcs-mr/mp-transformer</a>"
      ],
      "text/plain": [
       "<IPython.core.display.HTML object>"
      ]
     },
     "metadata": {},
     "output_type": "display_data"
    },
    {
     "data": {
      "text/html": [
       " View run at <a href='https://wandb.ai/tcs-mr/mp-transformer/runs/xlh6vk92' target=\"_blank\">https://wandb.ai/tcs-mr/mp-transformer/runs/xlh6vk92</a>"
      ],
      "text/plain": [
       "<IPython.core.display.HTML object>"
      ]
     },
     "metadata": {},
     "output_type": "display_data"
    },
    {
     "name": "stderr",
     "output_type": "stream",
     "text": [
      "\u001b[34m\u001b[1mwandb\u001b[0m:   1 of 1 files downloaded.  \n"
     ]
    }
   ],
   "source": [
    "run = wandb.init(project=\"mp-transformer\")\n",
    "artifact = run.use_artifact(\"tcs-mr/mp-transformer/model:v300\", type='model')\n",
    "artifact_dir = artifact.download()\n"
   ]
  },
  {
   "cell_type": "code",
   "execution_count": 4,
   "metadata": {},
   "outputs": [
    {
     "name": "stdout",
     "output_type": "stream",
     "text": [
      "./artifacts/model:v300\n"
     ]
    }
   ],
   "source": [
    "print(artifact_dir)"
   ]
  },
  {
   "cell_type": "code",
   "execution_count": 7,
   "metadata": {},
   "outputs": [
    {
     "data": {
      "text/html": [
       "Waiting for W&B process to finish... <strong style=\"color:green\">(success).</strong>"
      ],
      "text/plain": [
       "<IPython.core.display.HTML object>"
      ]
     },
     "metadata": {},
     "output_type": "display_data"
    },
    {
     "data": {
      "text/html": [
       " View run <strong style=\"color:#cdcd00\">peach-cloud-545</strong> at: <a href='https://wandb.ai/tcs-mr/mp-transformer/runs/xlh6vk92' target=\"_blank\">https://wandb.ai/tcs-mr/mp-transformer/runs/xlh6vk92</a><br/>Synced 6 W&B file(s), 0 media file(s), 0 artifact file(s) and 0 other file(s)"
      ],
      "text/plain": [
       "<IPython.core.display.HTML object>"
      ]
     },
     "metadata": {},
     "output_type": "display_data"
    },
    {
     "data": {
      "text/html": [
       "Find logs at: <code>./wandb/run-20230914_181329-xlh6vk92/logs</code>"
      ],
      "text/plain": [
       "<IPython.core.display.HTML object>"
      ]
     },
     "metadata": {},
     "output_type": "display_data"
    }
   ],
   "source": [
    "CONFIG[\"hidden_dim\"] = 40\n",
    "CONFIG[\"latent_dim\"] = 48\n",
    "CONFIG[\"num_primitives\"] = 1\n",
    "CONFIG[\"num_attention_heads\"] = 1\n",
    "CONFIG[\"num_transformer_layers\"] = 1\n",
    "model, _, val_dataset = setup(CONFIG)\n",
    "artifact_dir = \"./artifacts/model:v300\"\n",
    "model = model.load_from_checkpoint(Path(artifact_dir, \"model.ckpt\"), config=CONFIG)\n",
    "run.finish()"
   ]
  },
  {
   "cell_type": "code",
   "execution_count": 6,
   "metadata": {},
   "outputs": [
    {
     "name": "stdout",
     "output_type": "stream",
     "text": [
      "Video saved to tmp/comp_vid.mp4\n"
     ]
    }
   ],
   "source": [
    "item = val_dataset[-1]\n",
    "# item = val_dataset[64]\n",
    "# item = val_dataset[0]\n",
    "# save_side_by_side_video(item, model, from_idx=3)\n",
    "save_side_by_side_video(item, model)"
   ]
  },
  {
   "cell_type": "code",
   "execution_count": 7,
   "metadata": {},
   "outputs": [
    {
     "data": {
      "text/html": [
       "\n",
       "<video width=\"320\" height=\"240\" controls>\n",
       "  <source src=\"../tmp/comp_vid.mp4\" type=\"video/mp4\">\n",
       "</video>\n"
      ],
      "text/plain": [
       "<IPython.core.display.HTML object>"
      ]
     },
     "execution_count": 7,
     "metadata": {},
     "output_type": "execute_result"
    }
   ],
   "source": [
    "\n",
    "HTML(\"\"\"\n",
    "<video width=\"320\" height=\"240\" controls>\n",
    "  <source src=\"../tmp/comp_vid.mp4\" type=\"video/mp4\">\n",
    "</video>\n",
    "\"\"\")"
   ]
  },
  {
   "cell_type": "code",
   "execution_count": 8,
   "metadata": {},
   "outputs": [
    {
     "name": "stdout",
     "output_type": "stream",
     "text": [
      "poses range: [3.5189839309168747e-06, 0.9999984502792358]\n",
      "mus range: [-1.7213106155395508, 1.4266711473464966]\n",
      "average mu: -0.047322604805231094\n",
      "logvars range: [-8.529964447021484, -5.8591179847717285]\n",
      "median logvar: -7.437717914581299\n",
      "gt_latents range: [-1.848239541053772, 2.237262487411499]\n",
      "average gt_latents: 0.24795043468475342\n",
      "random_latents range: [-1.7329806089401245, 1.4522238969802856]\n",
      "average random_latents: -0.05122515186667442\n",
      "Video saved to tmp/fill_vid.mp4\n"
     ]
    }
   ],
   "source": [
    "item = val_dataset[50]\n",
    "save_side_by_side_video(item, model, from_idx=1, to_idx=4, path=\"tmp/fill_vid.mp4\")"
   ]
  },
  {
   "cell_type": "code",
   "execution_count": 9,
   "metadata": {},
   "outputs": [
    {
     "data": {
      "text/html": [
       "\n",
       "<video width=\"320\" height=\"240\" controls>\n",
       "  <source src=\"../tmp/fill_vid.mp4\" type=\"video/mp4\">\n",
       "</video>\n"
      ],
      "text/plain": [
       "<IPython.core.display.HTML object>"
      ]
     },
     "execution_count": 9,
     "metadata": {},
     "output_type": "execute_result"
    }
   ],
   "source": [
    "\n",
    "\n",
    "HTML(\"\"\"\n",
    "<video width=\"320\" height=\"240\" controls>\n",
    "  <source src=\"../tmp/fill_vid.mp4\" type=\"video/mp4\">\n",
    "</video>\n",
    "\"\"\")"
   ]
  },
  {
   "cell_type": "code",
   "execution_count": 10,
   "metadata": {},
   "outputs": [
    {
     "name": "stdout",
     "output_type": "stream",
     "text": [
      "poses range: [3.5189839309168747e-06, 0.9999984502792358]\n",
      "mus range: [-1.487624168395996, 1.8445534706115723]\n",
      "average mu: 0.04888433218002319\n",
      "logvars range: [-8.518484115600586, -5.8925089836120605]\n",
      "median logvar: -7.370262622833252\n",
      "gt_latents range: [-1.948813796043396, 2.2732694149017334]\n",
      "average gt_latents: 0.24087952077388763\n",
      "random_latents range: [-1.4572112560272217, 1.8878892660140991]\n",
      "average random_latents: 0.04571348428726196\n",
      "Video saved to tmp/gen_vid.mp4\n"
     ]
    }
   ],
   "source": [
    "save_side_by_side_video(item, model, from_idx=0, path=\"tmp/gen_vid.mp4\")"
   ]
  },
  {
   "cell_type": "code",
   "execution_count": 11,
   "metadata": {},
   "outputs": [
    {
     "data": {
      "text/html": [
       "\n",
       "<video width=\"320\" height=\"240\" controls>\n",
       "  <source src=\"../tmp/gen_vid.mp4\" type=\"video/mp4\">\n",
       "</video>\n"
      ],
      "text/plain": [
       "<IPython.core.display.HTML object>"
      ]
     },
     "execution_count": 11,
     "metadata": {},
     "output_type": "execute_result"
    }
   ],
   "source": [
    "\n",
    "\n",
    "HTML(\"\"\"\n",
    "<video width=\"320\" height=\"240\" controls>\n",
    "  <source src=\"../tmp/gen_vid.mp4\" type=\"video/mp4\">\n",
    "</video>\n",
    "\"\"\")"
   ]
  },
  {
   "cell_type": "code",
   "execution_count": null,
   "metadata": {},
   "outputs": [],
   "source": []
  }
 ],
 "metadata": {
  "kernelspec": {
   "display_name": "Python 3 (ipykernel)",
   "language": "python",
   "name": "python3"
  },
  "language_info": {
   "codemirror_mode": {
    "name": "ipython",
    "version": 3
   },
   "file_extension": ".py",
   "mimetype": "text/x-python",
   "name": "python",
   "nbconvert_exporter": "python",
   "pygments_lexer": "ipython3",
   "version": "3.10.10"
  }
 },
 "nbformat": 4,
 "nbformat_minor": 4
}
