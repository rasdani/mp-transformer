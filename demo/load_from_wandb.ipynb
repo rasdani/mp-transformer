{
 "cells": [
  {
   "cell_type": "code",
   "execution_count": null,
   "metadata": {},
   "outputs": [],
   "source": [
    "from pathlib import Path\n",
    "import os\n",
    "from IPython.display import HTML\n",
    "import wandb\n",
    "from mp_transformer.config import CONFIG\n",
    "from mp_transformer.train import setup\n",
    "from mp_transformer.utils import save_side_by_side_video"
   ]
  },
  {
   "cell_type": "code",
   "execution_count": null,
   "metadata": {},
   "outputs": [],
   "source": [
    "current_dir = Path.cwd().parts[-1]\n",
    "if current_dir == \"demo\":\n",
    "    os.chdir(\"..\")\n",
    "!pwd"
   ]
  },
  {
   "cell_type": "code",
   "execution_count": null,
   "metadata": {},
   "outputs": [],
   "source": [
    "run = wandb.init(project=\"mp-transformer\")\n",
    "artifact = run.use_artifact(\"tcs-mr/mp-transformer/model:v300\", type='model')\n",
    "artifact_dir = artifact.download()\n"
   ]
  },
  {
   "cell_type": "code",
   "execution_count": null,
   "metadata": {},
   "outputs": [],
   "source": [
    "print(artifact_dir)"
   ]
  },
  {
   "cell_type": "code",
   "execution_count": null,
   "metadata": {},
   "outputs": [],
   "source": [
    "CONFIG[\"hidden_dim\"] = 40\n",
    "CONFIG[\"latent_dim\"] = 48\n",
    "CONFIG[\"num_primitives\"] = 1\n",
    "CONFIG[\"num_attention_heads\"] = 1\n",
    "CONFIG[\"num_transformer_layers\"] = 1\n",
    "model, _, val_dataset = setup(CONFIG)\n",
    "artifact_dir = \"./artifacts/model:v300\"\n",
    "model = model.load_from_checkpoint(Path(artifact_dir, \"model.ckpt\"), config=CONFIG)\n",
    "run.finish()"
   ]
  },
  {
   "cell_type": "code",
   "execution_count": null,
   "metadata": {},
   "outputs": [],
   "source": [
    "item = val_dataset[-1]\n",
    "# item = val_dataset[64]\n",
    "# item = val_dataset[0]\n",
    "# save_side_by_side_video(item, model, from_idx=3)\n",
    "save_side_by_side_video(item, model)"
   ]
  },
  {
   "cell_type": "code",
   "execution_count": null,
   "metadata": {},
   "outputs": [],
   "source": [
    "\n",
    "HTML(\"\"\"\n",
    "<video width=\"320\" height=\"240\" controls>\n",
    "  <source src=\"../tmp/comp_vid.mp4\" type=\"video/mp4\">\n",
    "</video>\n",
    "\"\"\")"
   ]
  },
  {
   "cell_type": "code",
   "execution_count": null,
   "metadata": {},
   "outputs": [],
   "source": [
    "item = val_dataset[50]\n",
    "save_side_by_side_video(item, model, from_idx=1, to_idx=4, path=\"tmp/fill_vid.mp4\")"
   ]
  },
  {
   "cell_type": "code",
   "execution_count": null,
   "metadata": {},
   "outputs": [],
   "source": [
    "\n",
    "\n",
    "HTML(\"\"\"\n",
    "<video width=\"320\" height=\"240\" controls>\n",
    "  <source src=\"../tmp/fill_vid.mp4\" type=\"video/mp4\">\n",
    "</video>\n",
    "\"\"\")"
   ]
  },
  {
   "cell_type": "code",
   "execution_count": null,
   "metadata": {},
   "outputs": [],
   "source": [
    "save_side_by_side_video(item, model, from_idx=0, path=\"tmp/gen_vid.mp4\")"
   ]
  },
  {
   "cell_type": "code",
   "execution_count": null,
   "metadata": {},
   "outputs": [],
   "source": [
    "\n",
    "\n",
    "HTML(\"\"\"\n",
    "<video width=\"320\" height=\"240\" controls>\n",
    "  <source src=\"../tmp/gen_vid.mp4\" type=\"video/mp4\">\n",
    "</video>\n",
    "\"\"\")"
   ]
  },
  {
   "cell_type": "code",
   "execution_count": null,
   "metadata": {},
   "outputs": [],
   "source": []
  }
 ],
 "metadata": {
  "kernelspec": {
   "display_name": "Python 3 (ipykernel)",
   "language": "python",
   "name": "python3"
  },
  "language_info": {
   "codemirror_mode": {
    "name": "ipython",
    "version": 3
   },
   "file_extension": ".py",
   "mimetype": "text/x-python",
   "name": "python",
   "nbconvert_exporter": "python",
   "pygments_lexer": "ipython3",
   "version": "3.10.10"
  }
 },
 "nbformat": 4,
 "nbformat_minor": 4
}
