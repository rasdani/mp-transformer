{
 "cells": [
  {
   "cell_type": "code",
   "execution_count": 1,
   "metadata": {},
   "outputs": [],
   "source": [
    "import os\n",
    "from pathlib import Path\n",
    "from torch.utils.data import DataLoader\n",
    "from mp_transformer.config import CONFIG\n",
    "from mp_transformer.train import setup"
   ]
  },
  {
   "cell_type": "code",
   "execution_count": 2,
   "metadata": {},
   "outputs": [
    {
     "name": "stdout",
     "output_type": "stream",
     "text": [
      "/data/daniel/git/mp-transformer\n"
     ]
    }
   ],
   "source": [
    "current_dir = Path.cwd().parts[-1]\n",
    "if current_dir == \"demo\":\n",
    "    os.chdir(\"..\")\n",
    "!pwd"
   ]
  },
  {
   "cell_type": "code",
   "execution_count": 3,
   "metadata": {},
   "outputs": [],
   "source": [
    "CONFIG[\"hidden_dim\"] = 40\n",
    "CONFIG[\"latent_dim\"] = 48\n",
    "CONFIG[\"num_primitives\"] = 1\n",
    "CONFIG[\"num_attention_heads\"] = 1\n",
    "CONFIG[\"num_transformer_layers\"] = 1\n",
    "model_vae_single_layer_transformer, _, test_set = setup(CONFIG, test_set=True)\n",
    "model_vae_single_layer_transformer = model_vae_single_layer_transformer.load_from_checkpoint(\"demo/BEST-VAE-single-layer-transformer.ckpt\", config=CONFIG)"
   ]
  },
  {
   "cell_type": "code",
   "execution_count": 4,
   "metadata": {},
   "outputs": [],
   "source": [
    "CONFIG[\"hidden_dim\"] = 40\n",
    "CONFIG[\"latent_dim\"] = 48\n",
    "CONFIG[\"num_primitives\"] = 1\n",
    "CONFIG[\"num_attention_heads\"] = 4\n",
    "CONFIG[\"num_transformer_layers\"] = 4\n",
    "model_vae, _, _ = setup(CONFIG)\n",
    "model_vae = model_vae.load_from_checkpoint(\"demo/BEST-VAE.ckpt\", config=CONFIG)"
   ]
  },
  {
   "cell_type": "code",
   "execution_count": 5,
   "metadata": {},
   "outputs": [],
   "source": [
    "test_dataloader = DataLoader(\n",
    "    test_set,\n",
    "    batch_size=CONFIG[\"batch_size\"],\n",
    "    drop_last=True,\n",
    "    num_workers=4,\n",
    ")"
   ]
  },
  {
   "cell_type": "code",
   "execution_count": 6,
   "metadata": {},
   "outputs": [],
   "source": [
    "CONFIG[\"hidden_dim\"] = 40\n",
    "CONFIG[\"latent_dim\"] = 8\n",
    "CONFIG[\"num_primitives\"] = 6\n",
    "CONFIG[\"num_attention_heads\"] = 1\n",
    "CONFIG[\"num_transformer_layers\"] = 1\n",
    "model_single_layer_transformer, _, _ = setup(CONFIG)\n",
    "model_single_layer_transformer = model_single_layer_transformer.load_from_checkpoint(\"demo/BEST-single-layer-transformer.ckpt\", config=CONFIG)"
   ]
  },
  {
   "cell_type": "code",
   "execution_count": 7,
   "metadata": {},
   "outputs": [],
   "source": [
    "CONFIG[\"hidden_dim\"] = 40\n",
    "CONFIG[\"latent_dim\"] = 8\n",
    "CONFIG[\"num_primitives\"] = 6\n",
    "CONFIG[\"num_attention_heads\"] = 4\n",
    "CONFIG[\"num_transformer_layers\"] = 4\n",
    "model, _, _ = setup(CONFIG)\n",
    "model = model.load_from_checkpoint(\"demo/BEST-bottleneck.ckpt\", config=CONFIG)"
   ]
  },
  {
   "cell_type": "code",
   "execution_count": 8,
   "metadata": {},
   "outputs": [
    {
     "name": "stderr",
     "output_type": "stream",
     "text": [
      "GPU available: True (cuda), used: True\n",
      "TPU available: False, using: 0 TPU cores\n",
      "IPU available: False, using: 0 IPUs\n",
      "HPU available: False, using: 0 HPUs\n"
     ]
    },
    {
     "name": "stderr",
     "output_type": "stream",
     "text": [
      "LOCAL_RANK: 0 - CUDA_VISIBLE_DEVICES: [0]\n"
     ]
    },
    {
     "name": "stdout",
     "output_type": "stream",
     "text": [
      "Testing DataLoader 0:  13%|█▎        | 5/39 [00:00<00:03, 10.26it/s]diff.abs().max()=tensor(0.2585) at idx=91\n",
      "Testing DataLoader 0: 100%|██████████| 39/39 [00:00<00:00, 42.84it/s]losses=[tensor(0.0095, device='cuda:0'), tensor(0.0111, device='cuda:0'), tensor(0.0108, device='cuda:0'), tensor(0.0095, device='cuda:0'), tensor(0.0099, device='cuda:0'), tensor(0.0113, device='cuda:0'), tensor(0.0108, device='cuda:0'), tensor(0.0085, device='cuda:0'), tensor(0.0091, device='cuda:0'), tensor(0.0108, device='cuda:0'), tensor(0.0110, device='cuda:0'), tensor(0.0095, device='cuda:0'), tensor(0.0156, device='cuda:0'), tensor(0.0139, device='cuda:0'), tensor(0.0126, device='cuda:0'), tensor(0.0219, device='cuda:0'), tensor(0.0145, device='cuda:0'), tensor(0.0206, device='cuda:0'), tensor(0.0100, device='cuda:0'), tensor(0.0121, device='cuda:0'), tensor(0.0101, device='cuda:0'), tensor(0.0092, device='cuda:0'), tensor(0.0127, device='cuda:0'), tensor(0.0153, device='cuda:0'), tensor(0.0144, device='cuda:0'), tensor(0.0117, device='cuda:0'), tensor(0.0139, device='cuda:0'), tensor(0.0107, device='cuda:0'), tensor(0.0118, device='cuda:0'), tensor(0.0098, device='cuda:0'), tensor(0.0105, device='cuda:0'), tensor(0.0122, device='cuda:0'), tensor(0.0168, device='cuda:0'), tensor(0.0108, device='cuda:0'), tensor(0.0089, device='cuda:0'), tensor(0.0131, device='cuda:0'), tensor(0.0090, device='cuda:0'), tensor(0.0128, device='cuda:0'), tensor(0.0079, device='cuda:0')]\n",
      "Testing DataLoader 0: 100%|██████████| 39/39 [00:00<00:00, 41.19it/s]\n",
      "────────────────────────────────────────────────────────────────────────────────────────────────────────────────────────\n",
      "       Test metric             DataLoader 0\n",
      "────────────────────────────────────────────────────────────────────────────────────────────────────────────────────────\n",
      "      avg_test_loss        0.011915095150470734\n",
      "────────────────────────────────────────────────────────────────────────────────────────────────────────────────────────\n"
     ]
    },
    {
     "data": {
      "text/plain": [
       "[{'avg_test_loss': 0.011915095150470734}]"
      ]
     },
     "execution_count": 8,
     "metadata": {},
     "output_type": "execute_result"
    }
   ],
   "source": [
    "from pytorch_lightning import Trainer\n",
    "\n",
    "trainer = Trainer(gpus=1)\n",
    "res = trainer.test(model, dataloaders=test_dataloader)\n",
    "res"
   ]
  },
  {
   "cell_type": "code",
   "execution_count": null,
   "metadata": {},
   "outputs": [],
   "source": []
  },
  {
   "cell_type": "code",
   "execution_count": null,
   "metadata": {},
   "outputs": [],
   "source": []
  },
  {
   "cell_type": "code",
   "execution_count": null,
   "metadata": {},
   "outputs": [],
   "source": []
  }
 ],
 "metadata": {
  "kernelspec": {
   "display_name": "mp-transformer",
   "language": "python",
   "name": "python3"
  },
  "language_info": {
   "codemirror_mode": {
    "name": "ipython",
    "version": 3
   },
   "file_extension": ".py",
   "mimetype": "text/x-python",
   "name": "python",
   "nbconvert_exporter": "python",
   "pygments_lexer": "ipython3",
   "version": "3.10.10"
  },
  "orig_nbformat": 4
 },
 "nbformat": 4,
 "nbformat_minor": 2
}
